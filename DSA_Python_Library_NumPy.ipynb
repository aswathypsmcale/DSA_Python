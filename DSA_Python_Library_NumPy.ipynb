{
  "nbformat": 4,
  "nbformat_minor": 0,
  "metadata": {
    "colab": {
      "provenance": []
    },
    "kernelspec": {
      "name": "python3",
      "display_name": "Python 3"
    },
    "language_info": {
      "name": "python"
    }
  },
  "cells": [
    {
      "cell_type": "code",
      "execution_count": null,
      "metadata": {
        "id": "TQXMIsPVkUi4"
      },
      "outputs": [],
      "source": [
        " #NumPy Panda"
      ]
    },
    {
      "cell_type": "code",
      "source": [
        "import numpy as np\n",
        "data=[1,2,3,4,5]\n",
        "a1=np.array(data)\n",
        "a1"
      ],
      "metadata": {
        "colab": {
          "base_uri": "https://localhost:8080/"
        },
        "id": "WGQRrh53kbuY",
        "outputId": "8e95931d-3cdf-4b64-985f-9cfd2e393bcd"
      },
      "execution_count": null,
      "outputs": [
        {
          "output_type": "execute_result",
          "data": {
            "text/plain": [
              "array([1, 2, 3, 4, 5])"
            ]
          },
          "metadata": {},
          "execution_count": 3
        }
      ]
    },
    {
      "cell_type": "code",
      "source": [
        "import numpy as np\n",
        "data1=[[1,2,3,4],[6,7,8,9]]\n",
        "a2=np.array(data1)\n",
        "a2"
      ],
      "metadata": {
        "colab": {
          "base_uri": "https://localhost:8080/"
        },
        "id": "ahsicCqlrkW7",
        "outputId": "8baf5799-6920-4ce3-82d7-6c3d217e5f43"
      },
      "execution_count": null,
      "outputs": [
        {
          "output_type": "execute_result",
          "data": {
            "text/plain": [
              "array([[1, 2, 3, 4],\n",
              "       [6, 7, 8, 9]])"
            ]
          },
          "metadata": {},
          "execution_count": 7
        }
      ]
    },
    {
      "cell_type": "code",
      "source": [
        "a1.ndim"
      ],
      "metadata": {
        "colab": {
          "base_uri": "https://localhost:8080/"
        },
        "id": "hP_Pzx0HtHad",
        "outputId": "5e1d2716-419a-4df2-abca-1578637452cc"
      },
      "execution_count": null,
      "outputs": [
        {
          "output_type": "execute_result",
          "data": {
            "text/plain": [
              "1"
            ]
          },
          "metadata": {},
          "execution_count": 8
        }
      ]
    },
    {
      "cell_type": "code",
      "source": [
        "a2.ndim"
      ],
      "metadata": {
        "colab": {
          "base_uri": "https://localhost:8080/"
        },
        "id": "GUKCLeiotK7C",
        "outputId": "5ef9f1af-37bf-4cc3-e1e4-3f5337d4b6a5"
      },
      "execution_count": null,
      "outputs": [
        {
          "output_type": "execute_result",
          "data": {
            "text/plain": [
              "2"
            ]
          },
          "metadata": {},
          "execution_count": 9
        }
      ]
    },
    {
      "cell_type": "code",
      "source": [
        "import numpy as np\n",
        "array1=['aswathy','ps']\n",
        "a3=np.array(array1)\n",
        "a3"
      ],
      "metadata": {
        "colab": {
          "base_uri": "https://localhost:8080/"
        },
        "id": "puHARsaGwu05",
        "outputId": "733647c1-f93e-4cf5-d71f-a6bc6242af1e"
      },
      "execution_count": null,
      "outputs": [
        {
          "output_type": "execute_result",
          "data": {
            "text/plain": [
              "array(['aswathy', 'ps'], dtype='<U7')"
            ]
          },
          "metadata": {},
          "execution_count": 11
        }
      ]
    },
    {
      "cell_type": "code",
      "source": [
        "import numpy as np\n",
        "arr=np.array([1,2,3,4])\n",
        "print(arr)\n",
        "print(type(arr))"
      ],
      "metadata": {
        "id": "FJzbNf5l06EH",
        "colab": {
          "base_uri": "https://localhost:8080/"
        },
        "outputId": "b31e835b-4615-43e4-bb2d-f01bd66c8f73"
      },
      "execution_count": null,
      "outputs": [
        {
          "output_type": "stream",
          "name": "stdout",
          "text": [
            "[1 2 3 4]\n",
            "<class 'numpy.ndarray'>\n"
          ]
        }
      ]
    },
    {
      "cell_type": "code",
      "source": [
        "import numpy as np\n",
        "print(np.__version__)"
      ],
      "metadata": {
        "colab": {
          "base_uri": "https://localhost:8080/"
        },
        "id": "l4vm_m26kZ6v",
        "outputId": "b4dfe6e4-5b9a-49c1-b499-fa9a2adfc92b"
      },
      "execution_count": null,
      "outputs": [
        {
          "output_type": "stream",
          "name": "stdout",
          "text": [
            "1.26.4\n"
          ]
        }
      ]
    },
    {
      "cell_type": "code",
      "source": [
        "#oD array\n",
        "import numpy as np\n",
        "array1=np.array(55)\n",
        "print(array1)\n"
      ],
      "metadata": {
        "colab": {
          "base_uri": "https://localhost:8080/"
        },
        "id": "XbbSn-aQ56qL",
        "outputId": "07a757e9-d717-4df2-cb6d-43ba0ae9e301"
      },
      "execution_count": null,
      "outputs": [
        {
          "output_type": "stream",
          "name": "stdout",
          "text": [
            "55\n"
          ]
        }
      ]
    },
    {
      "cell_type": "code",
      "source": [
        "# 1D-Array\n",
        "import numpy as np\n",
        "array2=np.array([1,2,3,4,5])\n",
        "print(array2)\n",
        "print(array2.ndim)"
      ],
      "metadata": {
        "colab": {
          "base_uri": "https://localhost:8080/"
        },
        "id": "X3_W2k7I6TPF",
        "outputId": "3c08c904-9c68-40f2-fa53-ad13af699a46"
      },
      "execution_count": null,
      "outputs": [
        {
          "output_type": "stream",
          "name": "stdout",
          "text": [
            "[1 2 3 4 5]\n",
            "1\n"
          ]
        }
      ]
    },
    {
      "cell_type": "code",
      "source": [
        "# 2D-Array\n",
        "import numpy as np\n",
        "array3=np.array([[1,2,3],[5,6,7]])\n",
        "print(array3)\n",
        "print(array3.ndim)"
      ],
      "metadata": {
        "colab": {
          "base_uri": "https://localhost:8080/"
        },
        "id": "_nKtiywU68mt",
        "outputId": "36d3aa3b-8df5-4d58-cd00-90957669593b"
      },
      "execution_count": null,
      "outputs": [
        {
          "output_type": "stream",
          "name": "stdout",
          "text": [
            "[[1 2 3]\n",
            " [5 6 7]]\n",
            "2\n"
          ]
        }
      ]
    },
    {
      "cell_type": "code",
      "source": [
        "# 3D Array\n",
        "import numpy as np\n",
        "array4=([[[1,2,3],[4,5,6]],[[7,8,9],[5,3,1]]])\n",
        "print(array4)\n",
        "#print(array4.ndim)"
      ],
      "metadata": {
        "colab": {
          "base_uri": "https://localhost:8080/"
        },
        "id": "yjstN__TKoQx",
        "outputId": "6781ae2d-5ff5-4dd0-b073-a477f0240965"
      },
      "execution_count": null,
      "outputs": [
        {
          "output_type": "stream",
          "name": "stdout",
          "text": [
            "[[[1, 2, 3], [4, 5, 6]], [[7, 8, 9], [5, 3, 1]]]\n"
          ]
        }
      ]
    },
    {
      "cell_type": "code",
      "source": [
        "import numpy as np\n",
        "\n",
        "a = np.array(42)\n",
        "b = np.array([1, 2, 3, 4, 5])\n",
        "c = np.array([[1, 2, 3], [4, 5, 6]])\n",
        "d = np.array([[[1, 2, 3], [4, 5, 6]], [[1, 2, 3], [4, 5, 6]]])\n",
        "\n",
        "print(a.ndim)\n",
        "print(b.ndim)\n",
        "print(c.ndim)\n",
        "print(d.ndim)"
      ],
      "metadata": {
        "colab": {
          "base_uri": "https://localhost:8080/"
        },
        "id": "NWcdGFhFL4_I",
        "outputId": "d1a878d8-85fa-403f-fd8c-09e25f9a20dc"
      },
      "execution_count": null,
      "outputs": [
        {
          "output_type": "stream",
          "name": "stdout",
          "text": [
            "0\n",
            "1\n",
            "2\n",
            "3\n"
          ]
        }
      ]
    },
    {
      "cell_type": "code",
      "source": [
        "import numpy as np\n",
        "arr=np.array([1,2,3,4])\n",
        "print(arr[0])"
      ],
      "metadata": {
        "colab": {
          "base_uri": "https://localhost:8080/"
        },
        "id": "Z18YW_hqMMGp",
        "outputId": "dbdfb2ce-f7c9-47d1-d270-c21222261c63"
      },
      "execution_count": null,
      "outputs": [
        {
          "output_type": "stream",
          "name": "stdout",
          "text": [
            "1\n"
          ]
        }
      ]
    },
    {
      "cell_type": "code",
      "source": [
        "print(arr[1])"
      ],
      "metadata": {
        "colab": {
          "base_uri": "https://localhost:8080/"
        },
        "id": "cAhjKS47MDjt",
        "outputId": "d71b881e-32aa-40b5-cf92-79fb906f94a5"
      },
      "execution_count": null,
      "outputs": [
        {
          "output_type": "stream",
          "name": "stdout",
          "text": [
            "2\n"
          ]
        }
      ]
    },
    {
      "cell_type": "code",
      "source": [
        "print(arr[2]+arr[3])"
      ],
      "metadata": {
        "colab": {
          "base_uri": "https://localhost:8080/"
        },
        "id": "wPHgoZ6-MIrj",
        "outputId": "94c7ef2e-c580-414d-c119-6aac08fbb76a"
      },
      "execution_count": null,
      "outputs": [
        {
          "output_type": "stream",
          "name": "stdout",
          "text": [
            "7\n"
          ]
        }
      ]
    },
    {
      "cell_type": "code",
      "source": [
        "import numpy as np\n",
        "arr1=np.array([[10,20,30,40],[50,60,70,80]])\n",
        "print(arr1)\n",
        "print(\"2nd element in 1st row\",arr1[0,1])\n",
        "print(\"2nd element in 2nd row\",arr1[1,1])\n",
        "print(\"last element from second row\",arr1[1,-1])"
      ],
      "metadata": {
        "id": "sSitVLPhNCsx",
        "colab": {
          "base_uri": "https://localhost:8080/"
        },
        "outputId": "7bf38a59-5f97-461c-abf6-4806f8b0b644"
      },
      "execution_count": null,
      "outputs": [
        {
          "output_type": "stream",
          "name": "stdout",
          "text": [
            "[[10 20 30 40]\n",
            " [50 60 70 80]]\n",
            "2nd element in 1st row 20\n",
            "2nd element in 2nd row 60\n",
            "last element from second row 80\n"
          ]
        }
      ]
    },
    {
      "cell_type": "code",
      "source": [
        "import numpy as np\n",
        "\n",
        "arr = np.array([[[1, 2, 3], [4, 5, 6]], [[7, 8, 9], [10, 11, 12]]])\n",
        "\n",
        "print(arr[0, 1, 2])"
      ],
      "metadata": {
        "colab": {
          "base_uri": "https://localhost:8080/"
        },
        "id": "nCFImOZKfu63",
        "outputId": "a4529506-6678-4451-dafe-0e3262dad895"
      },
      "execution_count": null,
      "outputs": [
        {
          "output_type": "stream",
          "name": "stdout",
          "text": [
            "6\n"
          ]
        }
      ]
    },
    {
      "cell_type": "code",
      "source": [
        "# slicing\n",
        "import numpy as np\n",
        "arrs=np.array([10,20,30,40,50,60])\n",
        "print(arrs[1:5])\n",
        "print(arrs[:2])\n",
        "print(arrs[2:])\n",
        "print(arrs[-3:-1])\n",
        "\n",
        "print(arrs[1:5:2])"
      ],
      "metadata": {
        "colab": {
          "base_uri": "https://localhost:8080/"
        },
        "id": "NbARTRjbjIeS",
        "outputId": "828f482c-49ad-41d6-cb21-fe8e7815b2f8"
      },
      "execution_count": null,
      "outputs": [
        {
          "output_type": "stream",
          "name": "stdout",
          "text": [
            "[20 30 40 50]\n",
            "[10 20]\n",
            "[30 40 50 60]\n",
            "[40 50]\n",
            "[20 40]\n"
          ]
        }
      ]
    },
    {
      "cell_type": "code",
      "source": [
        "import numpy as np\n",
        "arrays=np.array([1,2,3,4,5,6])\n",
        "print(arrays[::2])\n",
        "print(arrays[2::])\n",
        "print(arrays[:5:])"
      ],
      "metadata": {
        "colab": {
          "base_uri": "https://localhost:8080/"
        },
        "id": "GLraIB7vViNr",
        "outputId": "034e3f35-a72b-484a-be80-aeb4728df456"
      },
      "execution_count": null,
      "outputs": [
        {
          "output_type": "stream",
          "name": "stdout",
          "text": [
            "[1 3 5]\n",
            "[3 4 5 6]\n",
            "[1 2 3 4 5]\n"
          ]
        }
      ]
    },
    {
      "cell_type": "code",
      "source": [
        " # slicing 2D Array\n",
        "import numpy as np\n",
        "arrays1=np.array([[1,2,3,4,5],[6,7,8,9,10]])\n",
        "print(arrays1)\n",
        "print(arrays1[1,1:4])\n",
        "print(arrays1[0:2,2]) #both element return index 2\n",
        "print(arrays1.dtype)"
      ],
      "metadata": {
        "colab": {
          "base_uri": "https://localhost:8080/"
        },
        "id": "gCAGC2r4k2fp",
        "outputId": "849c606b-0aed-4aba-ad3a-d81d848d18a8"
      },
      "execution_count": null,
      "outputs": [
        {
          "output_type": "stream",
          "name": "stdout",
          "text": [
            "[[ 1  2  3  4  5]\n",
            " [ 6  7  8  9 10]]\n",
            "[7 8 9]\n",
            "[3 8]\n",
            "int64\n"
          ]
        }
      ]
    }
  ]
}