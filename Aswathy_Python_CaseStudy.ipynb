{
  "nbformat": 4,
  "nbformat_minor": 0,
  "metadata": {
    "colab": {
      "provenance": []
    },
    "kernelspec": {
      "name": "python3",
      "display_name": "Python 3"
    },
    "language_info": {
      "name": "python"
    }
  },
  "cells": [
    {
      "cell_type": "code",
      "source": [
        "# A grocery store wants a program to calculate the total bill for a customer.\n",
        "# a. Store the prices of items in a dictionary (e.g., {'apple': 10, 'milk': 50})\n",
        "# b. Take the items purchased and their quantities as input.\n",
        "# c. Calculate and display the total bill amount.\n",
        "\n",
        "items_with_price={'Apple':50,'Milk':25,'Bread':35,'Cake':150,'Water':20}\n",
        "\n",
        "print(\"Please Enter the items and quantity,you want to buy:\")\n",
        "\n",
        "while True:\n",
        "  item=input(\"Enter the item name: (or 'stop' to finish):\")\n",
        "\n",
        "  if item=='stop':\n",
        "    break\n",
        "\n",
        "  elif item not in items_with_price:\n",
        "    print(\"Sorry currently not available\")\n",
        "    continue\n",
        "\n",
        "  quantity=int(input(f\"Enter the quantity of the {item}:\"))\n",
        "\n",
        "  item_price=items_with_price[item]*quantity\n",
        "  Total_amount=0\n",
        "  Total_amount+=item_price\n",
        "\n",
        "print(f\"Thank you for the purchase!..Your total amount:{Total_amount}\")\n",
        "\n"
      ],
      "metadata": {
        "colab": {
          "base_uri": "https://localhost:8080/"
        },
        "id": "jK1I6xfZVJE2",
        "outputId": "5f123edd-2728-4760-f1f3-450499d16fd1"
      },
      "execution_count": 10,
      "outputs": [
        {
          "output_type": "stream",
          "name": "stdout",
          "text": [
            "Please Enter the items and quantity,you want to buy:\n",
            "Enter the item name: (or 'stop' to finish):Apple\n",
            "Enter the quantity of the Apple:2\n",
            "Enter the item name: (or 'stop' to finish):Cake\n",
            "Enter the quantity of the Cake:2\n",
            "Enter the item name: (or 'stop' to finish):Water\n",
            "Enter the quantity of the Water:1\n",
            "Enter the item name: (or 'stop' to finish):banana\n",
            "Sorry currently not available\n",
            "Enter the item name: (or 'stop' to finish):stop\n",
            "Thank you for the purchase!..Your total amount:20\n"
          ]
        }
      ]
    },
    {
      "cell_type": "code",
      "source": [
        "#Student Grade Calculator\n",
        "# A teacher wants a program to calculate grades for students based on their marks.\n",
        "# a. Store marks for 5 subjects in a list.\n",
        "# b. Calculate the average and determine the grade:\n",
        "#  90+ -> A\n",
        "# 70-89 -> B\n",
        "# 50-69 -> C\n",
        "# <50 -> F\n",
        "# c. Display the average and the grade.\n",
        "\n",
        "std_marks = []\n",
        "\n",
        "for i in range(5):\n",
        "    mark = float(input(f\"Enter marks for subject {i}: \"))\n",
        "    std_marks.append(mark)\n",
        "\n",
        "average = sum(std_marks) / len(std_marks)\n",
        "\n",
        "if average >= 90:\n",
        "    grade = 'A'\n",
        "elif 70 <= average < 90:\n",
        "    grade = 'B'\n",
        "elif 50 <= average < 70:\n",
        "    grade = 'C'\n",
        "else:\n",
        "    grade = 'F'\n",
        "\n",
        "print(f\"\\nAverage marks: {average:.2f}\")\n",
        "print(f\"Grade: {grade}\")\n",
        "\n"
      ],
      "metadata": {
        "colab": {
          "base_uri": "https://localhost:8080/"
        },
        "id": "4lc-xntaatfi",
        "outputId": "ba2751da-dbbd-40fd-fab2-f1b95c6e0dd1"
      },
      "execution_count": 14,
      "outputs": [
        {
          "output_type": "stream",
          "name": "stdout",
          "text": [
            "Enter marks for subject 0: 55\n",
            "Enter marks for subject 1: 66\n",
            "Enter marks for subject 2: 49\n",
            "Enter marks for subject 3: 64\n",
            "Enter marks for subject 4: 77\n",
            "\n",
            "Average marks: 62.20\n",
            "Grade: C\n"
          ]
        }
      ]
    },
    {
      "cell_type": "code",
      "source": [
        "# A movie theatre wants to automate ticket booking for customers.\n",
        "# a. Use a list to store the available seats (e.g., [1, 2, 3, ..., 20]).\n",
        "# b. Allow the customer to book a seat by entering the seat number.\n",
        "# c. After booking, remove the seat from the list of available seats.\n",
        "# d. Display the remaining available seats.\n",
        "\n",
        "\n",
        "available_seats = list(range(1, 50))\n",
        "\n",
        "def display_available_seats():\n",
        "    print(f\"\\nAvailable seats: {available_seats}\")\n",
        "\n",
        "while True:\n",
        " display_available_seats()\n",
        "\n",
        " seat_number = int(input(\"Please Enter the seat number you want to book (or 0 to exit): \"))\n",
        "\n",
        " if seat_number == 0:\n",
        "   print(\"Thank you for visiting! \")\n",
        "   break\n",
        "\n",
        " if seat_number in available_seats:\n",
        "  available_seats.remove(seat_number)\n",
        "  print(f\"Thank you! Seat number {seat_number} booked successfully!\")\n",
        " else:\n",
        "  print(f\"Sorry, seat number {seat_number} is currently not available \")"
      ],
      "metadata": {
        "colab": {
          "base_uri": "https://localhost:8080/"
        },
        "id": "jiq4IU_3dHsC",
        "outputId": "736eeb57-e21f-49f2-c67e-ad45ca5709f7"
      },
      "execution_count": 18,
      "outputs": [
        {
          "output_type": "stream",
          "name": "stdout",
          "text": [
            "\n",
            "Available seats: [1, 2, 3, 4, 5, 6, 7, 8, 9, 10, 11, 12, 13, 14, 15, 16, 17, 18, 19, 20, 21, 22, 23, 24, 25, 26, 27, 28, 29, 30, 31, 32, 33, 34, 35, 36, 37, 38, 39, 40, 41, 42, 43, 44, 45, 46, 47, 48, 49]\n",
            "Please Enter the seat number you want to book (or 0 to exit): 1\n",
            "Thank you! Seat number 1 booked successfully!\n",
            "\n",
            "Available seats: [2, 3, 4, 5, 6, 7, 8, 9, 10, 11, 12, 13, 14, 15, 16, 17, 18, 19, 20, 21, 22, 23, 24, 25, 26, 27, 28, 29, 30, 31, 32, 33, 34, 35, 36, 37, 38, 39, 40, 41, 42, 43, 44, 45, 46, 47, 48, 49]\n",
            "Please Enter the seat number you want to book (or 0 to exit): 2\n",
            "Thank you! Seat number 2 booked successfully!\n",
            "\n",
            "Available seats: [3, 4, 5, 6, 7, 8, 9, 10, 11, 12, 13, 14, 15, 16, 17, 18, 19, 20, 21, 22, 23, 24, 25, 26, 27, 28, 29, 30, 31, 32, 33, 34, 35, 36, 37, 38, 39, 40, 41, 42, 43, 44, 45, 46, 47, 48, 49]\n",
            "Please Enter the seat number you want to book (or 0 to exit): 51\n",
            "Sorry, seat number 51 is currently not available \n",
            "\n",
            "Available seats: [3, 4, 5, 6, 7, 8, 9, 10, 11, 12, 13, 14, 15, 16, 17, 18, 19, 20, 21, 22, 23, 24, 25, 26, 27, 28, 29, 30, 31, 32, 33, 34, 35, 36, 37, 38, 39, 40, 41, 42, 43, 44, 45, 46, 47, 48, 49]\n",
            "Please Enter the seat number you want to book (or 0 to exit): 2\n",
            "Sorry, seat number 2 is currently not available \n",
            "\n",
            "Available seats: [3, 4, 5, 6, 7, 8, 9, 10, 11, 12, 13, 14, 15, 16, 17, 18, 19, 20, 21, 22, 23, 24, 25, 26, 27, 28, 29, 30, 31, 32, 33, 34, 35, 36, 37, 38, 39, 40, 41, 42, 43, 44, 45, 46, 47, 48, 49]\n",
            "Please Enter the seat number you want to book (or 0 to exit): 22\n",
            "Thank you! Seat number 22 booked successfully!\n",
            "\n",
            "Available seats: [3, 4, 5, 6, 7, 8, 9, 10, 11, 12, 13, 14, 15, 16, 17, 18, 19, 20, 21, 23, 24, 25, 26, 27, 28, 29, 30, 31, 32, 33, 34, 35, 36, 37, 38, 39, 40, 41, 42, 43, 44, 45, 46, 47, 48, 49]\n",
            "Please Enter the seat number you want to book (or 0 to exit): 5\n",
            "Thank you! Seat number 5 booked successfully!\n",
            "\n",
            "Available seats: [3, 4, 6, 7, 8, 9, 10, 11, 12, 13, 14, 15, 16, 17, 18, 19, 20, 21, 23, 24, 25, 26, 27, 28, 29, 30, 31, 32, 33, 34, 35, 36, 37, 38, 39, 40, 41, 42, 43, 44, 45, 46, 47, 48, 49]\n",
            "Please Enter the seat number you want to book (or 0 to exit): 0\n",
            "Thank you for visiting! \n"
          ]
        }
      ]
    }
  ]
}