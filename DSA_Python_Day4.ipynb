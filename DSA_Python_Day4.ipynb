{
  "nbformat": 4,
  "nbformat_minor": 0,
  "metadata": {
    "colab": {
      "provenance": []
    },
    "kernelspec": {
      "name": "python3",
      "display_name": "Python 3"
    },
    "language_info": {
      "name": "python"
    }
  },
  "cells": [
    {
      "cell_type": "code",
      "execution_count": null,
      "metadata": {
        "id": "HMKPzKt46P87"
      },
      "outputs": [],
      "source": []
    },
    {
      "cell_type": "code",
      "source": [
        "a = 1\n",
        "while a<10:\n",
        "  print(a)\n",
        "  a+=1"
      ],
      "metadata": {
        "colab": {
          "base_uri": "https://localhost:8080/"
        },
        "id": "PMa6TKSo6qV8",
        "outputId": "a353d80b-3826-4670-e38f-5a0077513d31"
      },
      "execution_count": null,
      "outputs": [
        {
          "output_type": "stream",
          "name": "stdout",
          "text": [
            "1\n",
            "2\n",
            "3\n",
            "4\n",
            "5\n",
            "6\n",
            "7\n",
            "8\n",
            "9\n"
          ]
        }
      ]
    },
    {
      "cell_type": "code",
      "source": [
        "#all numbers from 10 to 1\n",
        "num=10\n",
        "while num>0:\n",
        "  print(num,end=' ')\n",
        "  num-=1"
      ],
      "metadata": {
        "colab": {
          "base_uri": "https://localhost:8080/"
        },
        "id": "k9J-6vA-7LuU",
        "outputId": "fdf07885-74c2-4f26-da6e-32eac806f05a"
      },
      "execution_count": null,
      "outputs": [
        {
          "output_type": "stream",
          "name": "stdout",
          "text": [
            "10 9 8 7 6 5 4 3 2 1 "
          ]
        }
      ]
    },
    {
      "cell_type": "code",
      "source": [
        "#multiplication table of 3\n",
        "\n",
        "num = 1\n",
        "while num <= 10:\n",
        "  mult=num*3\n",
        "  print(f\"{num} * 3 = {mult}\")\n",
        "  num+=1\n",
        "\n"
      ],
      "metadata": {
        "colab": {
          "base_uri": "https://localhost:8080/"
        },
        "id": "47KzwUeS8lZk",
        "outputId": "b89e42a3-8d00-4d87-9f26-2421b79c0eb3"
      },
      "execution_count": null,
      "outputs": [
        {
          "output_type": "stream",
          "name": "stdout",
          "text": [
            "1 * 3 = 3\n",
            "2 * 3 = 6\n",
            "3 * 3 = 9\n",
            "4 * 3 = 12\n",
            "5 * 3 = 15\n",
            "6 * 3 = 18\n",
            "7 * 3 = 21\n",
            "8 * 3 = 24\n",
            "9 * 3 = 27\n",
            "10 * 3 = 30\n"
          ]
        }
      ]
    },
    {
      "cell_type": "code",
      "source": [
        "#calculate the sum of first n natural number whilw using while loop\n",
        "num = int(input(\"Enter the number\"))\n",
        "total=0\n",
        "while(num > 0):\n",
        "  total= total + num\n",
        "  num-=1\n",
        "  print(f\"total number is {total}\")\n"
      ],
      "metadata": {
        "colab": {
          "base_uri": "https://localhost:8080/"
        },
        "id": "fdBwudIe-DVS",
        "outputId": "98d13796-a314-4012-df6e-d94ea63b9478"
      },
      "execution_count": null,
      "outputs": [
        {
          "output_type": "stream",
          "name": "stdout",
          "text": [
            "Enter the number8\n",
            "total number is 8\n",
            "total number is 15\n",
            "total number is 21\n",
            "total number is 26\n",
            "total number is 30\n",
            "total number is 33\n",
            "total number is 35\n",
            "total number is 36\n"
          ]
        }
      ]
    },
    {
      "cell_type": "code",
      "source": [
        "#function\n",
        "def largest(num1,num2,num3):\n",
        "  if num1>num2 and num1>num3:\n",
        "   return num1\n",
        "  elif num2>num1 and num2>num:\n",
        "   return num2\n",
        "  else:\n",
        "    return num3\n"
      ],
      "metadata": {
        "id": "dQ0s-5eYC42U"
      },
      "execution_count": null,
      "outputs": []
    },
    {
      "cell_type": "code",
      "source": [
        "largest(50,40,100)"
      ],
      "metadata": {
        "colab": {
          "base_uri": "https://localhost:8080/"
        },
        "id": "stuDvqt4Dc3T",
        "outputId": "34127fba-ccf3-44ec-ff88-6625fcdadba6"
      },
      "execution_count": null,
      "outputs": [
        {
          "output_type": "execute_result",
          "data": {
            "text/plain": [
              "100"
            ]
          },
          "metadata": {},
          "execution_count": 22
        }
      ]
    },
    {
      "cell_type": "code",
      "source": [
        "#palindrome\n",
        "def palindrome(str1):\n",
        " str1=str1.lower()\n",
        " if str1==str1[::-1]:\n",
        "  return True\n",
        " else:\n",
        "  return False"
      ],
      "metadata": {
        "id": "u6WtNJMWFh_q"
      },
      "execution_count": null,
      "outputs": []
    },
    {
      "cell_type": "code",
      "source": [
        "palindrome(\"amma\")"
      ],
      "metadata": {
        "colab": {
          "base_uri": "https://localhost:8080/"
        },
        "id": "vai65UgQF21S",
        "outputId": "d3317e0b-ade2-45a5-a865-de01fafa1d73"
      },
      "execution_count": null,
      "outputs": [
        {
          "output_type": "execute_result",
          "data": {
            "text/plain": [
              "True"
            ]
          },
          "metadata": {},
          "execution_count": 27
        }
      ]
    },
    {
      "cell_type": "code",
      "source": [
        "def factorial(n):\n",
        "    result = 1\n",
        "    while n > 1:\n",
        "        result *= n\n",
        "        n -= 1\n",
        "    return result"
      ],
      "metadata": {
        "id": "13mZhEdbJDox"
      },
      "execution_count": null,
      "outputs": []
    },
    {
      "cell_type": "code",
      "source": [
        "factorial(6)"
      ],
      "metadata": {
        "colab": {
          "base_uri": "https://localhost:8080/"
        },
        "id": "Yx2AYoEbJHLs",
        "outputId": "cb395ceb-c94e-45a4-eb0c-a3c4e2c3ab12"
      },
      "execution_count": null,
      "outputs": [
        {
          "output_type": "execute_result",
          "data": {
            "text/plain": [
              "720"
            ]
          },
          "metadata": {},
          "execution_count": 30
        }
      ]
    },
    {
      "cell_type": "code",
      "source": [
        "def prime(num):\n",
        "  chk = 2\n",
        "  while chk<num:\n",
        "    if num%chk == 0:\n",
        "      return False\n",
        "    chk+=1\n",
        "  return True"
      ],
      "metadata": {
        "id": "14CpNxNFMRol"
      },
      "execution_count": null,
      "outputs": []
    },
    {
      "cell_type": "code",
      "source": [
        "prime(2)"
      ],
      "metadata": {
        "colab": {
          "base_uri": "https://localhost:8080/"
        },
        "id": "-PMBG4_UMKD-",
        "outputId": "d04d5d5b-05b6-4411-f96f-2038f4c2e398"
      },
      "execution_count": null,
      "outputs": [
        {
          "output_type": "execute_result",
          "data": {
            "text/plain": [
              "True"
            ]
          },
          "metadata": {},
          "execution_count": 35
        }
      ]
    },
    {
      "cell_type": "code",
      "source": [
        "ran = int(input(\"Enter Range\"))\n",
        "for i in range(1,ran+1):\n",
        "  if prime(i):\n",
        "    print(i,end=\" \")"
      ],
      "metadata": {
        "colab": {
          "base_uri": "https://localhost:8080/"
        },
        "id": "00uxQwnnMVGl",
        "outputId": "34010951-a1f9-49ff-e410-9a24d61f5032"
      },
      "execution_count": null,
      "outputs": [
        {
          "output_type": "stream",
          "name": "stdout",
          "text": [
            "Enter Range20\n",
            "1 2 3 5 7 11 13 17 19 "
          ]
        }
      ]
    },
    {
      "cell_type": "code",
      "source": [
        "num = int(input(\"Enter Number\"))\n",
        "count = 0\n",
        "while num>0:\n",
        "  rem = num%10\n",
        "  count+=1\n",
        "  num=num//10\n",
        "print(count)\n"
      ],
      "metadata": {
        "colab": {
          "base_uri": "https://localhost:8080/"
        },
        "id": "Y5KsJXXeSR3U",
        "outputId": "5ad217bc-1a47-4298-ee2e-07f4cbba0ee7"
      },
      "execution_count": null,
      "outputs": [
        {
          "output_type": "stream",
          "name": "stdout",
          "text": [
            "Enter Number542422\n",
            "6\n"
          ]
        }
      ]
    },
    {
      "cell_type": "code",
      "source": [
        "myname=input()"
      ],
      "metadata": {
        "colab": {
          "base_uri": "https://localhost:8080/"
        },
        "id": "RTiB7m9KmzOh",
        "outputId": "68d8d6e0-dfa6-4879-c4aa-01a40c777b91"
      },
      "execution_count": null,
      "outputs": [
        {
          "name": "stdout",
          "output_type": "stream",
          "text": [
            "Aswathy\n"
          ]
        }
      ]
    },
    {
      "cell_type": "code",
      "source": [
        "print(\"The length of your name is:\")\n",
        "print(len(myname))"
      ],
      "metadata": {
        "colab": {
          "base_uri": "https://localhost:8080/"
        },
        "id": "CS7RbWZgnHD8",
        "outputId": "a0e4ca02-da87-443e-9e80-a4730fe729af"
      },
      "execution_count": null,
      "outputs": [
        {
          "output_type": "stream",
          "name": "stdout",
          "text": [
            "The length of your name is:\n",
            "7\n"
          ]
        }
      ]
    },
    {
      "cell_type": "code",
      "source": [],
      "metadata": {
        "id": "n8434WqhntJZ"
      },
      "execution_count": null,
      "outputs": []
    }
  ]
}