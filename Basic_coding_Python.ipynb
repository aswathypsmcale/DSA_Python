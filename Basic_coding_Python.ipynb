{
  "nbformat": 4,
  "nbformat_minor": 0,
  "metadata": {
    "colab": {
      "provenance": []
    },
    "kernelspec": {
      "name": "python3",
      "display_name": "Python 3"
    },
    "language_info": {
      "name": "python"
    }
  },
  "cells": [
    {
      "cell_type": "code",
      "execution_count": 3,
      "metadata": {
        "colab": {
          "base_uri": "https://localhost:8080/"
        },
        "id": "Nfvc8t57pTmN",
        "outputId": "f673175d-d91d-4b9d-fd05-1100bdf6d7e0"
      },
      "outputs": [
        {
          "output_type": "stream",
          "name": "stdout",
          "text": [
            "Enter a number:20\n",
            "1 ,2 ,3 ,4 ,5 ,6 ,7 ,8 ,9 ,10 ,11 ,12 ,13 ,14 ,15 ,16 ,17 ,18 ,19 ,20 ,"
          ]
        }
      ],
      "source": [
        "# First n natural numbers\n",
        "num=int(input(\"Enter a number:\"))\n",
        "i=1\n",
        "while i<=num:\n",
        "  print(i,end=\" ,\")\n",
        "  i=i+1"
      ]
    },
    {
      "cell_type": "code",
      "source": [
        "# for loop\n",
        "num1=int(input(\"Insert a number\"))\n",
        "for i in range(1, num1+1):\n",
        " print(i,end=\",\")\n"
      ],
      "metadata": {
        "colab": {
          "base_uri": "https://localhost:8080/"
        },
        "id": "DexoDU3vwlf9",
        "outputId": "f1763263-5259-49be-cac5-dd9c8417cead"
      },
      "execution_count": 8,
      "outputs": [
        {
          "output_type": "stream",
          "name": "stdout",
          "text": [
            "Insert a number10\n",
            "1,2,3,4,5,6,7,8,9,10,"
          ]
        }
      ]
    },
    {
      "cell_type": "code",
      "source": [
        "age=int(input(\"Enter your age\"))\n",
        "print(\"Vote\") if age >=18 else print(\" can not vote\")"
      ],
      "metadata": {
        "colab": {
          "base_uri": "https://localhost:8080/"
        },
        "id": "amTlsRLozJmv",
        "outputId": "a8d4f9ec-ac0d-4358-e990-21380c60cbde"
      },
      "execution_count": 10,
      "outputs": [
        {
          "output_type": "stream",
          "name": "stdout",
          "text": [
            "Enter your age18\n",
            "Vote\n"
          ]
        }
      ]
    },
    {
      "cell_type": "code",
      "source": [
        "# +ve number\n",
        "number= int(input(\"Enter a number\"))\n",
        "if number >0:\n",
        "  print(\"+ve number\" )\n",
        "elif number < 0:\n",
        "  print(\"-ve number\")\n",
        "else:\n",
        "  print(\"zero\")"
      ],
      "metadata": {
        "colab": {
          "base_uri": "https://localhost:8080/"
        },
        "id": "Lo2n0QDR3iPo",
        "outputId": "21505e6d-07c5-4790-d8bd-85243155f6aa"
      },
      "execution_count": 16,
      "outputs": [
        {
          "output_type": "stream",
          "name": "stdout",
          "text": [
            "Enter a number4\n",
            "+ve number\n"
          ]
        }
      ]
    },
    {
      "cell_type": "code",
      "source": [
        "a = int(input(\"enter first number: \"))\n",
        "b = int(input(\"enter second number: \"))\n",
        "\n",
        "sum = a + b\n",
        "sub = a - b\n",
        "product = a * b\n",
        "quo = a / b\n",
        "flr_quo = a // b\n",
        "mod = a % b\n",
        "power = pow(a,b)\n",
        "print(\"sum:\", sum)\n",
        "print(\"subtraction:\", sub)\n",
        "print(\"product:\", product)\n",
        "print(\"quotient:\", quo)\n",
        "print(\"Floor quotient:\", flr_quo)\n",
        "print(\"remainder:\", mod)\n",
        "print(\"power:\", power)"
      ],
      "metadata": {
        "colab": {
          "base_uri": "https://localhost:8080/"
        },
        "id": "KQl9MGJAJkyY",
        "outputId": "42e8d9d1-30cb-4b6b-dbb6-7251e0ad3865"
      },
      "execution_count": 17,
      "outputs": [
        {
          "output_type": "stream",
          "name": "stdout",
          "text": [
            "enter first number: 10\n",
            "enter second number: 2\n",
            "sum: 12\n",
            "subtraction: 8\n",
            "product: 20\n",
            "quotient: 5.0\n",
            "Floor quotient: 5\n",
            "remainder: 0\n",
            "power: 100\n"
          ]
        }
      ]
    },
    {
      "cell_type": "code",
      "source": [
        "# Even or Odd\n",
        "num=int(input(\"Enter a number:\"))\n",
        "if num % 2 == 0:\n",
        "  print(\"Even number\")\n",
        "else:\n",
        "  print(\"Odd number\")"
      ],
      "metadata": {
        "colab": {
          "base_uri": "https://localhost:8080/"
        },
        "id": "lVyj5VpbK2t-",
        "outputId": "28ed2862-1f9f-475b-8319-025e23399ecd"
      },
      "execution_count": 19,
      "outputs": [
        {
          "output_type": "stream",
          "name": "stdout",
          "text": [
            "Enter a number:25\n",
            "Odd number\n"
          ]
        }
      ]
    },
    {
      "cell_type": "code",
      "source": [
        "num1=int(input(\"Enter a number:\"))\n",
        "print(\"Even number\") if num1 %2==0 else print(\"Odd number\")"
      ],
      "metadata": {
        "colab": {
          "base_uri": "https://localhost:8080/"
        },
        "id": "s-MiaT4mLYz4",
        "outputId": "26273421-690c-4073-ff5a-a7252445081e"
      },
      "execution_count": 20,
      "outputs": [
        {
          "output_type": "stream",
          "name": "stdout",
          "text": [
            "Enter a number:11\n",
            "Odd number\n"
          ]
        }
      ]
    },
    {
      "cell_type": "code",
      "source": [
        "mark=int(input(\"Enter your mark:\"))\n",
        "if mark<0 or mark >100:\n",
        "  print(\"invalid mark\")\n",
        "elif mark >=90:\n",
        "  print(\" Grade A+\")\n",
        "elif mark >=80:\n",
        "  print(\"Grade A\")\n",
        "elif mark >=70:\n",
        "  print(\"Grade B\")\n",
        "elif mark >=60:\n",
        "  print(\"Grade C\")\n",
        "elif mark >=50:\n",
        "  print(\"Grade D\")\n",
        "elif mark >=40:\n",
        "  print(\"Grade E\")\n",
        "else:\n",
        "  print(\"FAIL\")"
      ],
      "metadata": {
        "colab": {
          "base_uri": "https://localhost:8080/"
        },
        "id": "W7fG5ZPdgMj3",
        "outputId": "04f93a27-6e28-42c9-d2cb-cc822663bb17"
      },
      "execution_count": 24,
      "outputs": [
        {
          "output_type": "stream",
          "name": "stdout",
          "text": [
            "Enter your mark:60\n",
            "Grade C\n"
          ]
        }
      ]
    },
    {
      "cell_type": "code",
      "source": [
        "# Round\n",
        "import math\n",
        "number=float(input(\"Enter a number:\"))\n",
        "print(math.ceil(number))\n",
        "print(math.floor(number))\n",
        "print(round(number))"
      ],
      "metadata": {
        "colab": {
          "base_uri": "https://localhost:8080/"
        },
        "id": "KtpO1tDsh3u5",
        "outputId": "2e04317a-291b-4d53-b581-cd48f8152aaf"
      },
      "execution_count": 30,
      "outputs": [
        {
          "output_type": "stream",
          "name": "stdout",
          "text": [
            "Enter a number:5.55\n",
            "6\n",
            "5\n",
            "6\n"
          ]
        }
      ]
    },
    {
      "cell_type": "code",
      "source": [
        "import math\n",
        "a = int(input(\"enter first number: \"))\n",
        "b = int(input(\"enter second number: \"))\n",
        "c = int(input(\"enter third number: \"))\n",
        "\n",
        "sqroot = math.sqrt(a)\n",
        "square = b ** 2\n",
        "cb = c ** (1/6)\n",
        "\n",
        "print(\"Square root :\", sqroot)\n",
        "print(\"Square:\", square)\n",
        "print(\"Cube root:\", cb)"
      ],
      "metadata": {
        "colab": {
          "base_uri": "https://localhost:8080/"
        },
        "id": "4AUf3HAcoxU8",
        "outputId": "d0142046-805e-424b-c9af-168023f44908"
      },
      "execution_count": 31,
      "outputs": [
        {
          "output_type": "stream",
          "name": "stdout",
          "text": [
            "enter first number: 8\n",
            "enter second number: 12\n",
            "enter third number: 25\n",
            "Square root : 2.8284271247461903\n",
            "Square: 144\n",
            "Cube root: 1.7099759466766968\n"
          ]
        }
      ]
    },
    {
      "cell_type": "code",
      "source": [
        "# multiplication table\n",
        "number=int(input(\"Enter a number:\"))\n",
        "for i in range(1,11):\n",
        "  print(number,'*',i,'=',number*i)"
      ],
      "metadata": {
        "colab": {
          "base_uri": "https://localhost:8080/"
        },
        "id": "6wp9tiC54o6g",
        "outputId": "d2dcb51d-7701-40da-f63a-f93d1430bb01"
      },
      "execution_count": 1,
      "outputs": [
        {
          "output_type": "stream",
          "name": "stdout",
          "text": [
            "Enter a number:10\n",
            "10 * 1 = 10\n",
            "10 * 2 = 20\n",
            "10 * 3 = 30\n",
            "10 * 4 = 40\n",
            "10 * 5 = 50\n",
            "10 * 6 = 60\n",
            "10 * 7 = 70\n",
            "10 * 8 = 80\n",
            "10 * 9 = 90\n",
            "10 * 10 = 100\n"
          ]
        }
      ]
    },
    {
      "cell_type": "code",
      "source": [
        "# largest 3 number\n",
        "num1=float(input(\"Enter first number:\"))\n",
        "num2=float(input(\"Enter second number:\"))\n",
        "num3=float(input(\"Enter third number:\"))\n",
        "if num1>= num2 and num1>=num3:\n",
        "  print(num1,'is largest')\n",
        "elif num2 >= num1 and num2>= num3:\n",
        "  print(num2,'is largest')\n",
        "else:\n",
        "  print(num3,'is largest')"
      ],
      "metadata": {
        "colab": {
          "base_uri": "https://localhost:8080/"
        },
        "id": "_ZAQG3467YU5",
        "outputId": "141c69d2-980b-4120-d8fd-dcf231e27d8b"
      },
      "execution_count": 5,
      "outputs": [
        {
          "output_type": "stream",
          "name": "stdout",
          "text": [
            "Enter first number:10\n",
            "Enter second number:20\n",
            "Enter third number:5\n",
            "20.0 is largest\n"
          ]
        }
      ]
    },
    {
      "cell_type": "code",
      "source": [
        "num1=float(input(\"Enter first number:\"))\n",
        "num2=float(input(\"Enter second number:\"))\n",
        "num3=float(input(\"Enter third number:\"))\n",
        "largest=max(num1,num2,num3)\n",
        "print(largest,'is largest')"
      ],
      "metadata": {
        "colab": {
          "base_uri": "https://localhost:8080/"
        },
        "id": "nwqA2JZh9YxI",
        "outputId": "644fe62d-a6db-4669-fcbd-9cdcd8ceb0a6"
      },
      "execution_count": 6,
      "outputs": [
        {
          "output_type": "stream",
          "name": "stdout",
          "text": [
            "Enter first number:10\n",
            "Enter second number:45\n",
            "Enter third number:14\n",
            "45.0 is largest\n"
          ]
        }
      ]
    },
    {
      "cell_type": "code",
      "source": [
        "first = int(input(\"Enter first number:\"))\n",
        "second = int(input(\"Enter second number:\"))\n",
        "\n",
        "if first == second:\n",
        "    print(\"Both are Equal\")\n",
        "elif first > second:\n",
        "    print(str(first) + \" is Greater\")\n",
        "else:\n",
        "    print(str(second) + \" is Greater\")"
      ],
      "metadata": {
        "colab": {
          "base_uri": "https://localhost:8080/"
        },
        "id": "_ngnk1Ju96Ot",
        "outputId": "f5e49ec6-cb0b-42b5-ead1-cd0fb8714711"
      },
      "execution_count": 7,
      "outputs": [
        {
          "output_type": "stream",
          "name": "stdout",
          "text": [
            "Enter first number:5\n",
            "Enter second number:5\n",
            "Both are Equal\n"
          ]
        }
      ]
    },
    {
      "cell_type": "code",
      "source": [
        "first = int(input(\"Enter first number:\"))\n",
        "second = int(input(\"Enter second number:\"))\n",
        "\n",
        "if first == second:\n",
        "    print(\"Both are Equal\")\n",
        "else:\n",
        "    result = max(first, second)\n",
        "    print(str(result) + \" is greater\")"
      ],
      "metadata": {
        "colab": {
          "base_uri": "https://localhost:8080/"
        },
        "id": "B_hvKuJh-F_P",
        "outputId": "995c44c6-bb80-45b3-a74c-d1ca5b91d172"
      },
      "execution_count": 8,
      "outputs": [
        {
          "output_type": "stream",
          "name": "stdout",
          "text": [
            "Enter first number:12\n",
            "Enter second number:400\n",
            "400 is greater\n"
          ]
        }
      ]
    },
    {
      "cell_type": "code",
      "source": [
        "first = int(input(\"Enter first number:\"))\n",
        "second = int(input(\"Enter second number:\"))\n",
        "third = int(input(\"Enter third number:\"))\n",
        "\n",
        "temp = first if first > second else second\n",
        "\n",
        "result = temp if temp > third else third\n",
        "print(str(result) + \" is the greatest\")2"
      ],
      "metadata": {
        "colab": {
          "base_uri": "https://localhost:8080/"
        },
        "id": "fWjGaZeMAeua",
        "outputId": "57eb8efd-9d44-420c-a34d-66339126aff8"
      },
      "execution_count": 9,
      "outputs": [
        {
          "output_type": "stream",
          "name": "stdout",
          "text": [
            "Enter first number:1\n",
            "Enter second number:5\n",
            "Enter third number:11\n",
            "11 is the greatest\n"
          ]
        }
      ]
    },
    {
      "cell_type": "code",
      "source": [
        "first = int(input(\"Enter first number:\"))\n",
        "second = int(input(\"Enter second number:\"))\n",
        "third = int(input(\"Enter third number:\"))\n",
        "\n",
        "result = max(first, max(second, third))\n",
        "print(str(result) + \" is greatest\")"
      ],
      "metadata": {
        "colab": {
          "base_uri": "https://localhost:8080/"
        },
        "id": "-oi2VBBZAokB",
        "outputId": "cd56532b-741e-4a1e-dee6-8cd6209e8611"
      },
      "execution_count": 10,
      "outputs": [
        {
          "output_type": "stream",
          "name": "stdout",
          "text": [
            "Enter first number:88\n",
            "Enter second number:777\n",
            "Enter third number:4\n",
            "777 is greatest\n"
          ]
        }
      ]
    },
    {
      "cell_type": "code",
      "source": [
        "# poer of n\n",
        "base=int(input(\"Enter a number\"))\n",
        "expo=int(input(\"Enter a number\"))\n",
        "result=1\n",
        "i=1\n",
        "while i<= expo:\n",
        "  result*=base\n",
        "  i+=1\n",
        "print(result)\n",
        "print(expo)"
      ],
      "metadata": {
        "colab": {
          "base_uri": "https://localhost:8080/"
        },
        "id": "rPsiv8j7N66G",
        "outputId": "9518dbbd-7e47-4223-80f5-03ddd55f791f"
      },
      "execution_count": 4,
      "outputs": [
        {
          "output_type": "stream",
          "name": "stdout",
          "text": [
            "Enter a number2\n",
            "Enter a number3\n",
            "8\n",
            "3\n"
          ]
        }
      ]
    },
    {
      "cell_type": "code",
      "source": [
        "low, high = input(\"Enter the two numbers: \").split()\n",
        "\n",
        "for i in range(int(low), int(high)+1):\n",
        "    print(i, end = \" \")\n",
        "    if i % 13 == 0:\n",
        "        break"
      ],
      "metadata": {
        "colab": {
          "base_uri": "https://localhost:8080/"
        },
        "id": "jxZKxLzQg7BB",
        "outputId": "54ca8804-4cc4-48e1-f03b-58fa651a5b8b"
      },
      "execution_count": 8,
      "outputs": [
        {
          "output_type": "stream",
          "name": "stdout",
          "text": [
            "Enter the two numbers: 10 26\n",
            "10 11 12 13 "
          ]
        }
      ]
    },
    {
      "cell_type": "code",
      "source": [
        "low,high=input(\"Enter two numbers:\").split()\n",
        "for i in range(int(low),int(high)+1):\n",
        "  if i%5 ==0:\n",
        "    break\n",
        "  print(i,end=\" \")"
      ],
      "metadata": {
        "colab": {
          "base_uri": "https://localhost:8080/"
        },
        "id": "rUG-ZGW8jezA",
        "outputId": "e219405d-0fcc-43ef-9f4a-ccb9aebd6a15"
      },
      "execution_count": 13,
      "outputs": [
        {
          "output_type": "stream",
          "name": "stdout",
          "text": [
            "Enter two numbers:1  8\n",
            "1 2 3 4 "
          ]
        }
      ]
    },
    {
      "cell_type": "code",
      "source": [
        "num=int(input(\"Enter the size of array:\"))\n",
        "arr=[]\n",
        "print(\"The array elements are:\")\n",
        "for i in range(num):\n",
        "  arr.append(int(input()))\n",
        "print(arr)\n",
        "print(\"the elements are:\")\n",
        "for i in range(num):\n",
        "  print(arr[i],end=\"\")\n"
      ],
      "metadata": {
        "colab": {
          "base_uri": "https://localhost:8080/"
        },
        "id": "1ojxNFQ5OqBY",
        "outputId": "4580652e-ff26-4af8-a3e9-65207e3b088b"
      },
      "execution_count": 2,
      "outputs": [
        {
          "output_type": "stream",
          "name": "stdout",
          "text": [
            "Enter the size of array:5\n",
            "The array elements are:\n",
            "5\n",
            "4\n",
            "3\n",
            "2\n",
            "1\n",
            "[5, 4, 3, 2, 1]\n",
            "the elements are:\n",
            "54321"
          ]
        }
      ]
    },
    {
      "cell_type": "code",
      "source": [
        "#2 D Array\n",
        "R = int(input(\"Enter the number of rows:\"))\n",
        "C = int(input(\"Enter the number of columns:\"))\n",
        "\n",
        "# Initialize matrix\n",
        "matrix = []\n",
        "print(\"Enter the entries row-wise:\")\n",
        "\n",
        "# For user input\n",
        "for i in range(R):  # A for loop for row entries\n",
        "    a = []\n",
        "    for j in range(C):  # A for loop for column entries\n",
        "        a.append(int(input()))\n",
        "    matrix.append(a)\n",
        "\n",
        "# For printing the matrix\n",
        "for i in range(R):\n",
        "    for j in range(C):\n",
        "        print(matrix[i][j], end=\" \")\n",
        "    print()"
      ],
      "metadata": {
        "colab": {
          "base_uri": "https://localhost:8080/"
        },
        "id": "4MMofUdGdL6n",
        "outputId": "27518540-18b7-472d-e5f7-b0cd584517c9"
      },
      "execution_count": 3,
      "outputs": [
        {
          "output_type": "stream",
          "name": "stdout",
          "text": [
            "Enter the number of rows:2\n",
            "Enter the number of columns:3\n",
            "Enter the entries row-wise:\n",
            "10\n",
            "20\n",
            "30\n",
            "40\n",
            "50\n",
            "60\n",
            "10 20 30 \n",
            "40 50 60 \n"
          ]
        }
      ]
    }
  ]
}