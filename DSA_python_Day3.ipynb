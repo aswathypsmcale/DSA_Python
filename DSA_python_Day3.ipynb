{
  "nbformat": 4,
  "nbformat_minor": 0,
  "metadata": {
    "colab": {
      "provenance": []
    },
    "kernelspec": {
      "name": "python3",
      "display_name": "Python 3"
    },
    "language_info": {
      "name": "python"
    }
  },
  "cells": [
    {
      "cell_type": "code",
      "execution_count": null,
      "metadata": {
        "colab": {
          "base_uri": "https://localhost:8080/"
        },
        "id": "X8oHpX7pdIrV",
        "outputId": "fba54c86-ab17-461f-abd8-916798c4ff9e"
      },
      "outputs": [
        {
          "output_type": "stream",
          "name": "stdout",
          "text": [
            "a is bigger\n"
          ]
        }
      ],
      "source": [
        "a=40\n",
        "b=20\n",
        "if(a>b):\n",
        "  print(\"a is bigger\")\n",
        "else:\n",
        "  print(\"b is bigger\")"
      ]
    },
    {
      "cell_type": "code",
      "source": [
        "a=11\n",
        "b=5\n",
        "if(a%2==0):\n",
        "  print(\"a is even number\")\n",
        "else:\n",
        "  print (\"a is an odd number\")\n"
      ],
      "metadata": {
        "colab": {
          "base_uri": "https://localhost:8080/"
        },
        "id": "ByVfUhLredHj",
        "outputId": "a737e31e-b496-4b34-b175-02a4e1b190d4"
      },
      "execution_count": null,
      "outputs": [
        {
          "output_type": "stream",
          "name": "stdout",
          "text": [
            "a is an odd number\n"
          ]
        }
      ]
    },
    {
      "cell_type": "code",
      "source": [
        "num=int(input(\"Enter number\"))\n",
        "if(num%2==0):\n",
        "  print(\"num is even\")\n",
        "else:\n",
        "  print(\"Odd number\")"
      ],
      "metadata": {
        "colab": {
          "base_uri": "https://localhost:8080/"
        },
        "id": "0YI6Vgfof5nh",
        "outputId": "62da81f2-9a72-4cb6-ba65-e8866a6dda7d"
      },
      "execution_count": null,
      "outputs": [
        {
          "output_type": "stream",
          "name": "stdout",
          "text": [
            "Enter number10\n",
            "num is even\n"
          ]
        }
      ]
    },
    {
      "cell_type": "code",
      "source": [
        "num=int(input(\"Enter a number:\"))\n",
        "if(num>=50):\n",
        "  print(\"50+\")\n",
        "elif(num>=40):\n",
        "  print(\"40+\")\n",
        "elif(num>=30):\n",
        "  print(\"30+\")\n",
        "else:\n",
        "  print(\"less than 30\")"
      ],
      "metadata": {
        "colab": {
          "base_uri": "https://localhost:8080/"
        },
        "id": "wbE6GtgXiwFJ",
        "outputId": "b1a9a50f-6c60-4c95-f580-bb461bdd7705"
      },
      "execution_count": null,
      "outputs": [
        {
          "output_type": "stream",
          "name": "stdout",
          "text": [
            "Enter a number:11\n",
            "less than 30\n"
          ]
        }
      ]
    },
    {
      "cell_type": "code",
      "source": [
        "num1=int(input(\"Enter first number:\"))\n",
        "num2=int(input(\"Enter second number:\"))\n",
        "if(num1>num2):\n",
        "  print(\"num1 is greater\")\n",
        "elif(num1==num2):\n",
        "  print(\"num1 and num2 are equal\")\n",
        "else:\n",
        "  print(\"num2 is greater\")"
      ],
      "metadata": {
        "colab": {
          "base_uri": "https://localhost:8080/"
        },
        "id": "stTbZLjajb3q",
        "outputId": "1933dcf9-7864-43bf-c683-48272fbe51c5"
      },
      "execution_count": null,
      "outputs": [
        {
          "output_type": "stream",
          "name": "stdout",
          "text": [
            "Enter first number:10\n",
            "Enter second number:20\n",
            "num2 is greater\n"
          ]
        }
      ]
    },
    {
      "cell_type": "code",
      "source": [
        "tenur=5\n",
        "perform_rate=3\n",
        "salary=50000\n",
        "if(tenur>=5):\n",
        "  print(\"you are eligible for bonus\")\n",
        "  if(tenur>=4):\n",
        "    bonus=salary*.02\n",
        "  elif(tenur>=3):\n",
        "    bonus=salary*0.1\n",
        "  else:\n",
        "    bonus=salary*0.5\n",
        "  print(f\"you are eligible for bonus rupees {bonus} your salary is {salary}\")\n",
        "else:\n",
        "  print(\"you are not eligible for bonus\")"
      ],
      "metadata": {
        "colab": {
          "base_uri": "https://localhost:8080/"
        },
        "id": "jtEOZdWqndNg",
        "outputId": "ee62f608-c224-4bbe-d8d7-1933e76ba821"
      },
      "execution_count": null,
      "outputs": [
        {
          "output_type": "stream",
          "name": "stdout",
          "text": [
            "you are eligible for bonus\n",
            "you are eligible for bonus rupees 1000.0 your salary is 50000\n"
          ]
        }
      ]
    },
    {
      "cell_type": "code",
      "source": [
        "for num in range(10):\n",
        "  print(num*num)\n"
      ],
      "metadata": {
        "colab": {
          "base_uri": "https://localhost:8080/"
        },
        "id": "HWMv5338t5kE",
        "outputId": "a0950c40-b62a-4e8c-add3-4b7dd5d93614"
      },
      "execution_count": null,
      "outputs": [
        {
          "output_type": "stream",
          "name": "stdout",
          "text": [
            "0\n",
            "1\n",
            "4\n",
            "9\n",
            "16\n",
            "25\n",
            "36\n",
            "49\n",
            "64\n",
            "81\n"
          ]
        }
      ]
    },
    {
      "cell_type": "code",
      "source": [
        "for num in range(1,10,2):\n",
        "  print(num*num)"
      ],
      "metadata": {
        "colab": {
          "base_uri": "https://localhost:8080/"
        },
        "id": "USaobQV1uLq-",
        "outputId": "b27ed18d-daaf-4707-d384-d600c81aed89"
      },
      "execution_count": null,
      "outputs": [
        {
          "output_type": "stream",
          "name": "stdout",
          "text": [
            "1\n",
            "9\n",
            "25\n",
            "49\n",
            "81\n"
          ]
        }
      ]
    },
    {
      "cell_type": "code",
      "source": [
        "my_list=[\"apple\",\"orange\",\"banana\"]\n",
        "for fruit in range(len(my_list)):\n",
        "  print(my_list[fruit])"
      ],
      "metadata": {
        "colab": {
          "base_uri": "https://localhost:8080/"
        },
        "id": "Y9UyPpAxv3u9",
        "outputId": "de1e5315-379b-4973-c407-1f2759aa6459"
      },
      "execution_count": null,
      "outputs": [
        {
          "output_type": "stream",
          "name": "stdout",
          "text": [
            "apple\n",
            "orange\n",
            "banana\n"
          ]
        }
      ]
    },
    {
      "cell_type": "code",
      "source": [
        "my_list=[\"apple\",\"orange\",\"banana\"]\n",
        "for fruit in my_list:\n",
        "  print(fruit)"
      ],
      "metadata": {
        "colab": {
          "base_uri": "https://localhost:8080/"
        },
        "id": "qLQpKGkIxiks",
        "outputId": "3ba12f8f-ff80-48c4-e78f-7183d6fc9683"
      },
      "execution_count": null,
      "outputs": [
        {
          "output_type": "stream",
          "name": "stdout",
          "text": [
            "apple\n",
            "orange\n",
            "banana\n"
          ]
        }
      ]
    },
    {
      "cell_type": "code",
      "source": [
        "expenses=[1000,2000,3000,4000,5000]\n",
        "for exp in expenses:\n",
        "  if(exp>2500):\n",
        "   # continue\n",
        "    print(f\"Your expense is {exp}, you have cross the limit\")\n",
        "  elif(exp>=2000):\n",
        "    print(f\"Your expense is {exp}, you are close to limit, try saving\")\n",
        "  else:\n",
        "    print(f\"Your expense is {exp}, you are good in saving\")"
      ],
      "metadata": {
        "colab": {
          "base_uri": "https://localhost:8080/"
        },
        "id": "mLAF-BzlykFz",
        "outputId": "56cc06cb-beb6-4591-df69-37d243c7b212"
      },
      "execution_count": null,
      "outputs": [
        {
          "output_type": "stream",
          "name": "stdout",
          "text": [
            "Your expense is 1000, you are good in saving\n",
            "Your expense is 2000, you are close to limit, try saving\n",
            "Your expense is 3000, you have cross the limit\n",
            "Your expense is 4000, you have cross the limit\n",
            "Your expense is 5000, you have cross the limit\n"
          ]
        }
      ]
    },
    {
      "cell_type": "code",
      "source": [
        "stocks={\"Apple\":20,\"Banana\":30,\"orange\":10}\n",
        "for prd,stk in stocks.items():\n",
        "  print(f\"{prd} is available in {stk}kg\")"
      ],
      "metadata": {
        "colab": {
          "base_uri": "https://localhost:8080/"
        },
        "id": "or9Hyu142XpX",
        "outputId": "4e9c1c0b-5b64-4f48-d873-9e8631a9cce2"
      },
      "execution_count": null,
      "outputs": [
        {
          "output_type": "stream",
          "name": "stdout",
          "text": [
            "Apple is available in 20kg\n",
            "Banana is available in 30kg\n",
            "orange is available in 10kg\n"
          ]
        }
      ]
    },
    {
      "cell_type": "code",
      "source": [
        "stocks={\"Apple\":20,\"Banana\":30,\"orange\":10}\n",
        "for prd,stk in stocks.items():\n",
        " if(stk<=10):\n",
        "  print(f\"{prd} is out of stock\")\n",
        " else:\n",
        "  print(f\"{prd}is in stock\")"
      ],
      "metadata": {
        "colab": {
          "base_uri": "https://localhost:8080/"
        },
        "id": "BYBElkYF3tq8",
        "outputId": "65030e15-62e5-4c02-fee2-7f27e0a1c9f6"
      },
      "execution_count": null,
      "outputs": [
        {
          "output_type": "stream",
          "name": "stdout",
          "text": [
            "Appleis in stock\n",
            "Bananais in stock\n",
            "orange is out of stock\n"
          ]
        }
      ]
    }
  ]
}